{
 "cells": [
  {
   "cell_type": "markdown",
   "metadata": {
    "id": "ivUkOaBPEQYr"
   },
   "source": [
    "# **What is Text2Emotion?**\n",
    "Text2Emotion is the python package which will help you to extract the emotions from the content.\n",
    "\n",
    "*   Processes any textual message and recognizes the emotion embedded in it.\n",
    "*   Compatible with 5 different emotion categories as Happy, Angry, Sad, Surprise and Fear.\n",
    "\n"
   ]
  },
  {
   "cell_type": "markdown",
   "metadata": {
    "id": "949Mr0BLF7xW"
   },
   "source": [
    "Here we will discuss about the working of package and how you can use it."
   ]
  },
  {
   "cell_type": "markdown",
   "metadata": {
    "id": "7qvXHaLbG7al"
   },
   "source": [
    "## 1. Install the package"
   ]
  },
  {
   "cell_type": "code",
   "execution_count": 1,
   "metadata": {
    "colab": {
     "base_uri": "https://localhost:8080/",
     "height": 124
    },
    "id": "D3QHLMdnbMCX",
    "outputId": "ba4f4d06-2cb8-43f6-9f2a-cb2aeeccf688"
   },
   "outputs": [
    {
     "name": "stderr",
     "output_type": "stream",
     "text": [
      "[nltk_data] Downloading package stopwords to /home/alexis/nltk_data...\n",
      "[nltk_data]   Package stopwords is already up-to-date!\n",
      "[nltk_data] Downloading package punkt to /home/alexis/nltk_data...\n",
      "[nltk_data]   Package punkt is already up-to-date!\n",
      "[nltk_data] Downloading package wordnet to /home/alexis/nltk_data...\n",
      "[nltk_data]   Package wordnet is already up-to-date!\n"
     ]
    }
   ],
   "source": [
    "import text2emotion as te"
   ]
  },
  {
   "cell_type": "markdown",
   "metadata": {
    "id": "DgcGUoLpO0aw"
   },
   "source": [
    "## 2. Call get_emotion() function"
   ]
  },
  {
   "cell_type": "markdown",
   "metadata": {
    "id": "cic_vEaoI7Ge"
   },
   "source": [
    "Let's get some content for emotion analysis"
   ]
  },
  {
   "cell_type": "code",
   "execution_count": 2,
   "metadata": {
    "id": "McuobJsvH2EF"
   },
   "outputs": [],
   "source": [
    "text = \"I was asked to sign a third party contract a week out from stay. If it wasn't an 8 person group that took a lot of wrangling I would have cancelled the booking straight away. Bathrooms - there are no stand alone bathrooms. Please consider this - you have to clear out the main bedroom to use that bathroom. Other option is you walk through a different bedroom to get to its en-suite. Signs all over the apartment - there are signs everywhere - some helpful - some telling you rules. Perhaps some people like this but It negatively affected our enjoyment of the accommodation. Stairs - lots of them - some had slightly bending wood which caused a minor injury.\""
   ]
  },
  {
   "cell_type": "code",
   "execution_count": 3,
   "metadata": {
    "colab": {
     "base_uri": "https://localhost:8080/",
     "height": 35
    },
    "id": "q9n9nGi1H0WN",
    "outputId": "587bb956-5748-4fd3-a434-f4561c4ed428"
   },
   "outputs": [
    {
     "data": {
      "text/plain": [
       "{'Happy': 0.04, 'Angry': 0.12, 'Surprise': 0.08, 'Sad': 0.33, 'Fear': 0.42}"
      ]
     },
     "execution_count": 3,
     "metadata": {},
     "output_type": "execute_result"
    }
   ],
   "source": [
    "te.get_emotion(text)"
   ]
  },
  {
   "cell_type": "markdown",
   "metadata": {
    "id": "uyjyMGEcI44c"
   },
   "source": [
    "Here, we got the output in terms of dictionary where we have emotion categories along with the respective score."
   ]
  },
  {
   "cell_type": "markdown",
   "metadata": {
    "id": "Y2hpOj6hM8cz"
   },
   "source": [
    "Now, if we think about the scores of the relative emotion categories then **Fear** scoe is 0.45 & **Sad** score is 0.32. So on overall analysis we can say that the statement we took as input has the Fear & Sad tone."
   ]
  },
  {
   "cell_type": "code",
   "execution_count": 4,
   "metadata": {
    "id": "UR2s0lo3Iuzq"
   },
   "outputs": [],
   "source": [
    "text = \"The times are difficult! Our sales have been disappointing for the past three quarters for our data analytics product suite. We have a competitive data analytics product suite in the industry. However, we are not doing a good job at selling it, and this is really frustrating.\""
   ]
  },
  {
   "cell_type": "code",
   "execution_count": 5,
   "metadata": {
    "colab": {
     "base_uri": "https://localhost:8080/",
     "height": 35
    },
    "id": "EsVJ1ulWS5SF",
    "outputId": "198fe06b-3472-4377-dad3-81f7269284f1"
   },
   "outputs": [
    {
     "data": {
      "text/plain": [
       "{'Happy': 0.14, 'Angry': 0.14, 'Surprise': 0.29, 'Sad': 0.29, 'Fear': 0.14}"
      ]
     },
     "execution_count": 5,
     "metadata": {},
     "output_type": "execute_result"
    }
   ],
   "source": [
    "te.get_emotion(text)"
   ]
  },
  {
   "cell_type": "markdown",
   "metadata": {
    "id": "IZ4o-w7LO3tG"
   },
   "source": [
    "Let's check for short messages."
   ]
  },
  {
   "cell_type": "code",
   "execution_count": 6,
   "metadata": {
    "colab": {
     "base_uri": "https://localhost:8080/",
     "height": 35
    },
    "id": "9gJfoXOzPAUs",
    "outputId": "11b45fee-3697-4d32-f3e7-028567680d14"
   },
   "outputs": [
    {
     "data": {
      "text/plain": [
       "{'Happy': 1.0, 'Angry': 0.0, 'Surprise': 0.0, 'Sad': 0.0, 'Fear': 0.0}"
      ]
     },
     "execution_count": 6,
     "metadata": {},
     "output_type": "execute_result"
    }
   ],
   "source": [
    "text = \"Good n8\"\n",
    "te.get_emotion(text)"
   ]
  },
  {
   "cell_type": "code",
   "execution_count": 7,
   "metadata": {
    "colab": {
     "base_uri": "https://localhost:8080/",
     "height": 35
    },
    "id": "4ILgh6jhPMUK",
    "outputId": "2c6da01b-602e-45b7-8614-b3ca6819d7a7"
   },
   "outputs": [
    {
     "data": {
      "text/plain": [
       "{'Happy': 0.0, 'Angry': 0.0, 'Surprise': 0.0, 'Sad': 0.0, 'Fear': 1.0}"
      ]
     },
     "execution_count": 7,
     "metadata": {},
     "output_type": "execute_result"
    }
   ],
   "source": [
    "text = \"That night was so horrible.\"\n",
    "te.get_emotion(text)"
   ]
  },
  {
   "cell_type": "code",
   "execution_count": 8,
   "metadata": {
    "colab": {
     "base_uri": "https://localhost:8080/",
     "height": 35
    },
    "id": "dlzlYbQuPVY2",
    "outputId": "cb246bd9-8b0a-431e-b6b9-169317554217"
   },
   "outputs": [
    {
     "data": {
      "text/plain": [
       "{'Happy': 0.5, 'Angry': 0.0, 'Surprise': 0.5, 'Sad': 0.0, 'Fear': 0.0}"
      ]
     },
     "execution_count": 8,
     "metadata": {},
     "output_type": "execute_result"
    }
   ],
   "source": [
    "text = \"I just love this surprise.\"\n",
    "te.get_emotion(text)"
   ]
  },
  {
   "cell_type": "code",
   "execution_count": 9,
   "metadata": {
    "colab": {
     "base_uri": "https://localhost:8080/",
     "height": 35
    },
    "id": "CNSSyJTAPePS",
    "outputId": "b98d4644-5b96-466f-a69a-457a137fe4f7"
   },
   "outputs": [
    {
     "data": {
      "text/plain": [
       "{'Happy': 0.0, 'Angry': 0.0, 'Surprise': 0.0, 'Sad': 1.0, 'Fear': 0.0}"
      ]
     },
     "execution_count": 9,
     "metadata": {},
     "output_type": "execute_result"
    }
   ],
   "source": [
    "text = \"I can't understand what to do now.\"\n",
    "te.get_emotion(text)"
   ]
  },
  {
   "cell_type": "markdown",
   "metadata": {
    "id": "UCwPZ34BRY0_"
   },
   "source": [
    "Let's check out with some statements which contain emojis.\n"
   ]
  },
  {
   "cell_type": "code",
   "execution_count": 10,
   "metadata": {
    "colab": {
     "base_uri": "https://localhost:8080/",
     "height": 35
    },
    "id": "dnTtCGl_QVrQ",
    "outputId": "c99dd714-8076-47f9-8d7f-22e7008ca933"
   },
   "outputs": [
    {
     "data": {
      "text/plain": [
       "{'Happy': 0, 'Angry': 0, 'Surprise': 0, 'Sad': 0, 'Fear': 0}"
      ]
     },
     "execution_count": 10,
     "metadata": {},
     "output_type": "execute_result"
    }
   ],
   "source": [
    "text = \"you got this man 😆😂\"\n",
    "te.get_emotion(text)"
   ]
  },
  {
   "cell_type": "code",
   "execution_count": 11,
   "metadata": {
    "colab": {
     "base_uri": "https://localhost:8080/",
     "height": 35
    },
    "id": "K54DBtW3TruC",
    "outputId": "1ee1fba8-8951-4f54-d9b8-275de26ec13f"
   },
   "outputs": [
    {
     "data": {
      "text/plain": [
       "{'Happy': 1.0, 'Angry': 0.0, 'Surprise': 0.0, 'Sad': 0.0, 'Fear': 0.0}"
      ]
     },
     "execution_count": 11,
     "metadata": {},
     "output_type": "execute_result"
    }
   ],
   "source": [
    "text = \"I am extremely interested in software.\"\n",
    "te.get_emotion(text)"
   ]
  },
  {
   "cell_type": "code",
   "execution_count": 12,
   "metadata": {},
   "outputs": [
    {
     "data": {
      "text/plain": [
       "{'Happy': 0.0, 'Angry': 1.0, 'Surprise': 0.0, 'Sad': 0.0, 'Fear': 0.0}"
      ]
     },
     "execution_count": 12,
     "metadata": {},
     "output_type": "execute_result"
    }
   ],
   "source": [
    "text = \"mad bitches\"\n",
    "te.get_emotion(text)"
   ]
  },
  {
   "cell_type": "code",
   "execution_count": 13,
   "metadata": {},
   "outputs": [
    {
     "data": {
      "text/plain": [
       "{'Happy': 1.0, 'Angry': 0.0, 'Surprise': 0.0, 'Sad': 0.0, 'Fear': 0.0}"
      ]
     },
     "execution_count": 13,
     "metadata": {},
     "output_type": "execute_result"
    }
   ],
   "source": [
    "text = \"I am fucking happy for you\"\n",
    "te.get_emotion(text)"
   ]
  },
  {
   "cell_type": "code",
   "execution_count": null,
   "metadata": {},
   "outputs": [],
   "source": []
  }
 ],
 "metadata": {
  "colab": {
   "name": "Text2Emotion.ipynb",
   "provenance": [],
   "toc_visible": true
  },
  "kernelspec": {
   "display_name": "Python 3 (ipykernel)",
   "language": "python",
   "name": "python3"
  },
  "language_info": {
   "codemirror_mode": {
    "name": "ipython",
    "version": 3
   },
   "file_extension": ".py",
   "mimetype": "text/x-python",
   "name": "python",
   "nbconvert_exporter": "python",
   "pygments_lexer": "ipython3",
   "version": "3.9.7"
  }
 },
 "nbformat": 4,
 "nbformat_minor": 1
}
